{
 "cells": [
  {
   "cell_type": "markdown",
   "id": "0a11e7c4",
   "metadata": {},
   "source": [
    "## Identify Supply Chain Shortages \n",
    "<p> Date: October 19th 2021 </p> \n",
    "<p> Created By: Analyst 134 </p> \n",
    "<p> Purpose: Script to identify supply chain shortages based on news articles. </p>\n",
    "<p> Output excel file of supply chain shortages throughout Colorado. </p>\n",
    "<p> 2nd Output is Email to Derek Killebrew with Excel File Attached </p> "
   ]
  },
  {
   "cell_type": "code",
   "execution_count": 1,
   "id": "46824ca3",
   "metadata": {},
   "outputs": [],
   "source": [
    "# Step 1: Import Libraries\n",
    "import pandas as pd \n",
    "import numpy as np \n",
    "from newsapi import NewsApiClient\n",
    "from pandas.io.json import json_normalize\n",
    "from bs4 import BeautifulSoup"
   ]
  },
  {
   "cell_type": "code",
   "execution_count": 2,
   "id": "50c24520",
   "metadata": {},
   "outputs": [],
   "source": [
    "# Step 2: Query NewAPI - Top Headlines \n",
    "# Query: County: US  (Can I query By state CO?); Catergory: Business; Source: Supply Chain, Supply, Shortages\n",
    "# Step 2a: Bring in apikey \n",
    "newsapi = NewsApiClient(api_key='c9122fa4ccdb4b879b818dccec450116')\n",
    "#step 2b: \n",
    "data = newsapi.get_everything(q='colorado supply chain', language='en', page_size=2)"
   ]
  },
  {
   "cell_type": "code",
   "execution_count": 3,
   "id": "7cf1934d",
   "metadata": {},
   "outputs": [
    {
     "data": {
      "text/plain": [
       "233"
      ]
     },
     "execution_count": 3,
     "metadata": {},
     "output_type": "execute_result"
    }
   ],
   "source": [
    "# see number of articles in your results \n",
    "data['totalResults']"
   ]
  },
  {
   "cell_type": "code",
   "execution_count": 4,
   "id": "4bc036e1",
   "metadata": {},
   "outputs": [],
   "source": [
    "# create new list  and then iterate through each article in the list \n",
    "articles = data['articles']"
   ]
  },
  {
   "cell_type": "code",
   "execution_count": 5,
   "id": "b5c3a9fe",
   "metadata": {},
   "outputs": [
    {
     "name": "stdout",
     "output_type": "stream",
     "text": [
      "0  Amazon to hire 150000 U.S. workers for holiday shopping season - Reuters\n",
      "1  10 things in tech you need to know today\n"
     ]
    }
   ],
   "source": [
    "#iterate through each article in the list\n",
    "for x,y in enumerate(articles):\n",
    "    print(f'{x}  {y[\"title\"]}')"
   ]
  },
  {
   "cell_type": "code",
   "execution_count": 6,
   "id": "4fd1e4db",
   "metadata": {},
   "outputs": [
    {
     "name": "stdout",
     "output_type": "stream",
     "text": [
      "\n",
      "source          {'id': 'reuters', 'name': 'Reuters'}\n",
      "\n",
      "author          None\n",
      "\n",
      "title           Amazon to hire 150000 U.S. workers for holiday shopping season - Reuters\n",
      "\n",
      "description     Amazon.com Inc <a href=\"https://www.reuters.com/companies/AMZN.O\" target=\"_blank\">(AMZN.O)</a> said on Monday it plans to hire 150,000 seasonal workers in the United States during the holiday period, as the e-commerce giant prepares for a shopping season expe…\n",
      "\n",
      "url             https://www.reuters.com/business/retail-consumer/amazon-hire-150000-us-workers-holiday-shopping-season-2021-10-18/\n",
      "\n",
      "urlToImage      https://www.reuters.com/resizer/XmTbuwGBMGzD9SfYHS9Jre46Rak=/1200x628/smart/filters:quality(80)/cloudfront-us-east-2.images.arcpublishing.com/reuters/MGYU6NJ5NROEZCLWNYIYEC6XRI.jpg\n",
      "\n",
      "publishedAt     2021-10-18T14:46:00Z\n",
      "\n",
      "content         Packages are seen inside Amazon's JFK8 distribution center in Staten Island, New York, U.S. November 25, 2020. REUTERS/Brendan McDermid/File PhotoOct 18 (Reuters) - Amazon.com Inc (AMZN.O) said on Mo… [+1441 chars]\n"
     ]
    }
   ],
   "source": [
    "for key, value in articles [0].items():\n",
    "    print(f\"\\n{key.ljust(15)} {value}\")"
   ]
  },
  {
   "cell_type": "code",
   "execution_count": 7,
   "id": "ca4a7516",
   "metadata": {},
   "outputs": [],
   "source": [
    "# convert into dataframe\n",
    "SCdf = pd.DataFrame(articles)"
   ]
  },
  {
   "cell_type": "code",
   "execution_count": 8,
   "id": "6863eccc",
   "metadata": {},
   "outputs": [
    {
     "data": {
      "text/html": [
       "<div>\n",
       "<style scoped>\n",
       "    .dataframe tbody tr th:only-of-type {\n",
       "        vertical-align: middle;\n",
       "    }\n",
       "\n",
       "    .dataframe tbody tr th {\n",
       "        vertical-align: top;\n",
       "    }\n",
       "\n",
       "    .dataframe thead th {\n",
       "        text-align: right;\n",
       "    }\n",
       "</style>\n",
       "<table border=\"1\" class=\"dataframe\">\n",
       "  <thead>\n",
       "    <tr style=\"text-align: right;\">\n",
       "      <th></th>\n",
       "      <th>source</th>\n",
       "      <th>author</th>\n",
       "      <th>title</th>\n",
       "      <th>description</th>\n",
       "      <th>url</th>\n",
       "      <th>urlToImage</th>\n",
       "      <th>publishedAt</th>\n",
       "      <th>content</th>\n",
       "    </tr>\n",
       "  </thead>\n",
       "  <tbody>\n",
       "    <tr>\n",
       "      <th>0</th>\n",
       "      <td>{'id': 'reuters', 'name': 'Reuters'}</td>\n",
       "      <td>None</td>\n",
       "      <td>Amazon to hire 150000 U.S. workers for holiday...</td>\n",
       "      <td>Amazon.com Inc &lt;a href=\"https://www.reuters.co...</td>\n",
       "      <td>https://www.reuters.com/business/retail-consum...</td>\n",
       "      <td>https://www.reuters.com/resizer/XmTbuwGBMGzD9S...</td>\n",
       "      <td>2021-10-18T14:46:00Z</td>\n",
       "      <td>Packages are seen inside Amazon's JFK8 distrib...</td>\n",
       "    </tr>\n",
       "    <tr>\n",
       "      <th>1</th>\n",
       "      <td>{'id': 'business-insider', 'name': 'Business I...</td>\n",
       "      <td>jerb@insider.com (Jordan Parker Erb)</td>\n",
       "      <td>10 things in tech you need to know today</td>\n",
       "      <td>Amazon unveiled its home robot, and our writer...</td>\n",
       "      <td>https://www.businessinsider.com/10-things-in-t...</td>\n",
       "      <td>https://i.insider.com/61538af6b414c1001862d4c6...</td>\n",
       "      <td>2021-09-29T10:00:00Z</td>\n",
       "      <td>Good morning and welcome to 10 Things in Tech....</td>\n",
       "    </tr>\n",
       "  </tbody>\n",
       "</table>\n",
       "</div>"
      ],
      "text/plain": [
       "                                              source  \\\n",
       "0               {'id': 'reuters', 'name': 'Reuters'}   \n",
       "1  {'id': 'business-insider', 'name': 'Business I...   \n",
       "\n",
       "                                 author  \\\n",
       "0                                  None   \n",
       "1  jerb@insider.com (Jordan Parker Erb)   \n",
       "\n",
       "                                               title  \\\n",
       "0  Amazon to hire 150000 U.S. workers for holiday...   \n",
       "1           10 things in tech you need to know today   \n",
       "\n",
       "                                         description  \\\n",
       "0  Amazon.com Inc <a href=\"https://www.reuters.co...   \n",
       "1  Amazon unveiled its home robot, and our writer...   \n",
       "\n",
       "                                                 url  \\\n",
       "0  https://www.reuters.com/business/retail-consum...   \n",
       "1  https://www.businessinsider.com/10-things-in-t...   \n",
       "\n",
       "                                          urlToImage           publishedAt  \\\n",
       "0  https://www.reuters.com/resizer/XmTbuwGBMGzD9S...  2021-10-18T14:46:00Z   \n",
       "1  https://i.insider.com/61538af6b414c1001862d4c6...  2021-09-29T10:00:00Z   \n",
       "\n",
       "                                             content  \n",
       "0  Packages are seen inside Amazon's JFK8 distrib...  \n",
       "1  Good morning and welcome to 10 Things in Tech....  "
      ]
     },
     "execution_count": 8,
     "metadata": {},
     "output_type": "execute_result"
    }
   ],
   "source": [
    "SCdf"
   ]
  },
  {
   "cell_type": "markdown",
   "id": "fcc3b149",
   "metadata": {},
   "source": [
    "### Notes: \n",
    "<p> 1.) I seem to be hitting my limit for when I can make requests to the API and I am confused about how I can ensure I dont make too many requests </p>\n",
    "<p> 2.) In talking with Watch Center Analysts; this script should have different paramters for the date from and to. 30 days for the first day of the month; and then run Biweekly to ensure we catch all the media relatd to the keywords </p>\n",
    "<p> 3.) WCA use first alerts which sends emails related to tweets based keywords. </p> \n"
   ]
  },
  {
   "cell_type": "markdown",
   "id": "7f5f132d",
   "metadata": {},
   "source": [
    "### Step 2: Export Data Frame as a CSV "
   ]
  },
  {
   "cell_type": "code",
   "execution_count": 9,
   "id": "4bd3e06d",
   "metadata": {},
   "outputs": [],
   "source": [
    "SCdf.to_excel(r'supply_chain.xlsx',index=False)\n",
    "# Outputs a excel file but the df is a dictionary and therefore doesnt have each of the attribute in its own column.\n",
    "# Not sure how to fix them. will have to adpat the dataframe. "
   ]
  },
  {
   "cell_type": "code",
   "execution_count": null,
   "id": "af016657",
   "metadata": {},
   "outputs": [],
   "source": []
  }
 ],
 "metadata": {
  "kernelspec": {
   "display_name": "Python 3 (ipykernel)",
   "language": "python",
   "name": "python3"
  },
  "language_info": {
   "codemirror_mode": {
    "name": "ipython",
    "version": 3
   },
   "file_extension": ".py",
   "mimetype": "text/x-python",
   "name": "python",
   "nbconvert_exporter": "python",
   "pygments_lexer": "ipython3",
   "version": "3.9.7"
  },
  "latex_envs": {
   "LaTeX_envs_menu_present": true,
   "autoclose": false,
   "autocomplete": true,
   "bibliofile": "biblio.bib",
   "cite_by": "apalike",
   "current_citInitial": 1,
   "eqLabelWithNumbers": true,
   "eqNumInitial": 1,
   "hotkeys": {
    "equation": "Ctrl-E",
    "itemize": "Ctrl-I"
   },
   "labels_anchors": false,
   "latex_user_defs": false,
   "report_style_numbering": false,
   "user_envs_cfg": false
  },
  "nbTranslate": {
   "displayLangs": [
    "*"
   ],
   "hotkey": "alt-t",
   "langInMainMenu": true,
   "sourceLang": "en",
   "targetLang": "fr",
   "useGoogleTranslate": true
  }
 },
 "nbformat": 4,
 "nbformat_minor": 5
}
